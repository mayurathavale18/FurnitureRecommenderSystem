{
  "cells": [
    {
      "cell_type": "markdown",
      "metadata": {
        "id": "view-in-github",
        "colab_type": "text"
      },
      "source": [
        "<a href=\"https://colab.research.google.com/github/mayurathavale18/FurnitureRecommenderSystem/blob/main/Recommender%20System%20Files/ikea_data_recommender_system.ipynb\" target=\"_parent\"><img src=\"https://colab.research.google.com/assets/colab-badge.svg\" alt=\"Open In Colab\"/></a>"
      ]
    },
    {
      "cell_type": "markdown",
      "metadata": {
        "id": "Z24l99Usz9U4"
      },
      "source": [
        "# Import Libraries"
      ]
    },
    {
      "cell_type": "code",
      "source": [
        "!wget https://raw.githubusercontent.com/mohsinrashid64/Recommender-System-of-Furniture-and-Bathrooms/main/data/Ikea_Data.csv\n"
      ],
      "metadata": {
        "id": "AimJ-MhT0hWU",
        "outputId": "84bca703-0d98-4879-dbf8-24e114060581",
        "colab": {
          "base_uri": "https://localhost:8080/"
        }
      },
      "execution_count": 1,
      "outputs": [
        {
          "output_type": "stream",
          "name": "stdout",
          "text": [
            "/bin/bash: -c: line 1: syntax error near unexpected token `newline'\n",
            "/bin/bash: -c: line 1: `wget <https://github.com/mohsinrashid64/Recommender-System-of-Furniture-and-Bathrooms/blob/main/data/Ikea_Data.csv>'\n"
          ]
        }
      ]
    },
    {
      "cell_type": "code",
      "execution_count": null,
      "metadata": {
        "id": "DLCpkioJz9U5"
      },
      "outputs": [],
      "source": [
        "import pandas as pd\n",
        "import numpy as np\n",
        "import re\n",
        "from sklearn.metrics.pairwise import cosine_similarity\n",
        "from sklearn.preprocessing import StandardScaler\n",
        "pd.set_option('display.max_colwidth', None)"
      ]
    },
    {
      "cell_type": "markdown",
      "metadata": {
        "id": "nbSnPlZSz9U6"
      },
      "source": [
        "# Loading Dataframe"
      ]
    },
    {
      "cell_type": "code",
      "execution_count": null,
      "metadata": {
        "id": "wxn2Vh6Hz9U6"
      },
      "outputs": [],
      "source": [
        "col_names=['Title','Price','Link','Path','Colors']"
      ]
    },
    {
      "cell_type": "code",
      "execution_count": null,
      "metadata": {
        "id": "GihJTgOSz9U6"
      },
      "outputs": [],
      "source": [
        "df=pd.read_csv('../data/Ikea_Data.csv', names=col_names)"
      ]
    },
    {
      "cell_type": "code",
      "execution_count": null,
      "metadata": {
        "id": "UwSMsYBmz9U7",
        "outputId": "f3b512a3-8298-4e05-dcd0-e37126a5afc7"
      },
      "outputs": [
        {
          "data": {
            "text/html": [
              "<div>\n",
              "<style scoped>\n",
              "    .dataframe tbody tr th:only-of-type {\n",
              "        vertical-align: middle;\n",
              "    }\n",
              "\n",
              "    .dataframe tbody tr th {\n",
              "        vertical-align: top;\n",
              "    }\n",
              "\n",
              "    .dataframe thead th {\n",
              "        text-align: right;\n",
              "    }\n",
              "</style>\n",
              "<table border=\"1\" class=\"dataframe\">\n",
              "  <thead>\n",
              "    <tr style=\"text-align: right;\">\n",
              "      <th></th>\n",
              "      <th>Title</th>\n",
              "      <th>Price</th>\n",
              "      <th>Link</th>\n",
              "      <th>Path</th>\n",
              "      <th>Colors</th>\n",
              "    </tr>\n",
              "  </thead>\n",
              "  <tbody>\n",
              "    <tr>\n",
              "      <th>0</th>\n",
              "      <td>GLOSTAD, Loveseat, Knisa dark gray</td>\n",
              "      <td>149</td>\n",
              "      <td>https://www.ikea.com/us/en/p/glostad-loveseat-knisa-dark-gray-70489011/</td>\n",
              "      <td>images/glostad.jpg</td>\n",
              "      <td>Current variation Knisa dark gray, Knisa medium blue</td>\n",
              "    </tr>\n",
              "    <tr>\n",
              "      <th>1</th>\n",
              "      <td>MORABO, Sofa, Gunnared dark gray/wood</td>\n",
              "      <td>699</td>\n",
              "      <td>https://www.ikea.com/us/en/p/morabo-sofa-gunnared-dark-gray-wood-s89318321/</td>\n",
              "      <td>images/morabo.jpg</td>\n",
              "      <td>Djuparp dark blue, Current variation Gunnared dark gray, Gunnared light green</td>\n",
              "    </tr>\n",
              "    <tr>\n",
              "      <th>2</th>\n",
              "      <td>PÄRUP, Sofa, Vissle gray</td>\n",
              "      <td>499</td>\n",
              "      <td>https://www.ikea.com/us/en/p/paerup-sofa-vissle-gray-s19389468/</td>\n",
              "      <td>images/pärup.jpg</td>\n",
              "      <td>Fridtuna dark gray-blue, Gunnared beige, Gunnared dark gray, Kelinge gray-turquoise, Kelinge rust, Current variation Vissle gray, Vissle yellow-brown</td>\n",
              "    </tr>\n",
              "    <tr>\n",
              "      <th>3</th>\n",
              "      <td>UPPLAND, Sofa, Blekinge white</td>\n",
              "      <td>849</td>\n",
              "      <td>https://www.ikea.com/us/en/p/uppland-sofa-blekinge-white-s19384116/</td>\n",
              "      <td>images/uppland.jpg</td>\n",
              "      <td>Current variation Blekinge white, Hakebo dark gray, Hakebo gray/green, Hillared anthracite, Hillared beige, Hillared dark blue, Karlshov gray-beige, Kelinge anthracite, Kelinge beige, Kelinge gray-turquoise, Kelinge rust, Kilanda dark blue, Kilanda light beige</td>\n",
              "    </tr>\n",
              "    <tr>\n",
              "      <th>4</th>\n",
              "      <td>PÄRUP, Sofa with chaise, Vissle gray</td>\n",
              "      <td>699</td>\n",
              "      <td>https://www.ikea.com/us/en/p/paerup-sofa-with-chaise-vissle-gray-s79389842/</td>\n",
              "      <td>images/pärup.jpg</td>\n",
              "      <td>Fridtuna dark gray-blue, Gunnared beige, Gunnared dark gray, Kelinge gray-turquoise, Kelinge rust, Current variation Vissle gray, Vissle yellow-brown</td>\n",
              "    </tr>\n",
              "  </tbody>\n",
              "</table>\n",
              "</div>"
            ],
            "text/plain": [
              "                                   Title Price  \\\n",
              "0     GLOSTAD, Loveseat, Knisa dark gray   149   \n",
              "1  MORABO, Sofa, Gunnared dark gray/wood   699   \n",
              "2               PÄRUP, Sofa, Vissle gray   499   \n",
              "3          UPPLAND, Sofa, Blekinge white   849   \n",
              "4   PÄRUP, Sofa with chaise, Vissle gray   699   \n",
              "\n",
              "                                                                          Link  \\\n",
              "0      https://www.ikea.com/us/en/p/glostad-loveseat-knisa-dark-gray-70489011/   \n",
              "1  https://www.ikea.com/us/en/p/morabo-sofa-gunnared-dark-gray-wood-s89318321/   \n",
              "2              https://www.ikea.com/us/en/p/paerup-sofa-vissle-gray-s19389468/   \n",
              "3          https://www.ikea.com/us/en/p/uppland-sofa-blekinge-white-s19384116/   \n",
              "4  https://www.ikea.com/us/en/p/paerup-sofa-with-chaise-vissle-gray-s79389842/   \n",
              "\n",
              "                 Path  \\\n",
              "0  images/glostad.jpg   \n",
              "1   images/morabo.jpg   \n",
              "2    images/pärup.jpg   \n",
              "3  images/uppland.jpg   \n",
              "4    images/pärup.jpg   \n",
              "\n",
              "                                                                                                                                                                                                                                                                 Colors  \n",
              "0                                                                                                                                                                                                                  Current variation Knisa dark gray, Knisa medium blue  \n",
              "1                                                                                                                                                                                         Djuparp dark blue, Current variation Gunnared dark gray, Gunnared light green  \n",
              "2                                                                                                                 Fridtuna dark gray-blue, Gunnared beige, Gunnared dark gray, Kelinge gray-turquoise, Kelinge rust, Current variation Vissle gray, Vissle yellow-brown  \n",
              "3  Current variation Blekinge white, Hakebo dark gray, Hakebo gray/green, Hillared anthracite, Hillared beige, Hillared dark blue, Karlshov gray-beige, Kelinge anthracite, Kelinge beige, Kelinge gray-turquoise, Kelinge rust, Kilanda dark blue, Kilanda light beige  \n",
              "4                                                                                                                 Fridtuna dark gray-blue, Gunnared beige, Gunnared dark gray, Kelinge gray-turquoise, Kelinge rust, Current variation Vissle gray, Vissle yellow-brown  "
            ]
          },
          "execution_count": 8,
          "metadata": {},
          "output_type": "execute_result"
        }
      ],
      "source": [
        "df.head()"
      ]
    },
    {
      "cell_type": "code",
      "execution_count": null,
      "metadata": {
        "id": "WkYPvMOyz9U8",
        "outputId": "f415bf79-edaa-4009-bd12-1963cf4af377"
      },
      "outputs": [
        {
          "data": {
            "text/plain": [
              "Title      0\n",
              "Price      0\n",
              "Link       0\n",
              "Path       0\n",
              "Colors    25\n",
              "dtype: int64"
            ]
          },
          "execution_count": 9,
          "metadata": {},
          "output_type": "execute_result"
        }
      ],
      "source": [
        "df.isna().sum()"
      ]
    },
    {
      "cell_type": "code",
      "execution_count": null,
      "metadata": {
        "id": "uAQmEWy4z9U8",
        "outputId": "e5d26f14-11f7-4512-98ae-1ee6ddffc02d"
      },
      "outputs": [
        {
          "name": "stdout",
          "output_type": "stream",
          "text": [
            "<class 'pandas.core.frame.DataFrame'>\n",
            "RangeIndex: 2106 entries, 0 to 2105\n",
            "Data columns (total 5 columns):\n",
            " #   Column  Non-Null Count  Dtype \n",
            "---  ------  --------------  ----- \n",
            " 0   Title   2106 non-null   object\n",
            " 1   Price   2106 non-null   object\n",
            " 2   Link    2106 non-null   object\n",
            " 3   Path    2106 non-null   object\n",
            " 4   Colors  2081 non-null   object\n",
            "dtypes: object(5)\n",
            "memory usage: 82.4+ KB\n"
          ]
        }
      ],
      "source": [
        "df.info()"
      ]
    },
    {
      "cell_type": "markdown",
      "metadata": {
        "id": "8sT6o3XHz9U8"
      },
      "source": [
        "# Displaying Dataset"
      ]
    },
    {
      "cell_type": "code",
      "execution_count": null,
      "metadata": {
        "id": "o1__mFA2z9U9",
        "outputId": "ca5fc9ee-93e7-40c3-9eb4-0f4e0ddee080"
      },
      "outputs": [
        {
          "data": {
            "text/html": [
              "<div>\n",
              "<style scoped>\n",
              "    .dataframe tbody tr th:only-of-type {\n",
              "        vertical-align: middle;\n",
              "    }\n",
              "\n",
              "    .dataframe tbody tr th {\n",
              "        vertical-align: top;\n",
              "    }\n",
              "\n",
              "    .dataframe thead th {\n",
              "        text-align: right;\n",
              "    }\n",
              "</style>\n",
              "<table border=\"1\" class=\"dataframe\">\n",
              "  <thead>\n",
              "    <tr style=\"text-align: right;\">\n",
              "      <th></th>\n",
              "      <th>Title</th>\n",
              "      <th>Price</th>\n",
              "      <th>Link</th>\n",
              "      <th>Path</th>\n",
              "      <th>Colors</th>\n",
              "    </tr>\n",
              "  </thead>\n",
              "  <tbody>\n",
              "    <tr>\n",
              "      <th>0</th>\n",
              "      <td>GLOSTAD, Loveseat, Knisa dark gray</td>\n",
              "      <td>149</td>\n",
              "      <td>https://www.ikea.com/us/en/p/glostad-loveseat-knisa-dark-gray-70489011/</td>\n",
              "      <td>images/glostad.jpg</td>\n",
              "      <td>Current variation Knisa dark gray, Knisa medium blue</td>\n",
              "    </tr>\n",
              "    <tr>\n",
              "      <th>1</th>\n",
              "      <td>MORABO, Sofa, Gunnared dark gray/wood</td>\n",
              "      <td>699</td>\n",
              "      <td>https://www.ikea.com/us/en/p/morabo-sofa-gunnared-dark-gray-wood-s89318321/</td>\n",
              "      <td>images/morabo.jpg</td>\n",
              "      <td>Djuparp dark blue, Current variation Gunnared dark gray, Gunnared light green</td>\n",
              "    </tr>\n",
              "    <tr>\n",
              "      <th>2</th>\n",
              "      <td>PÄRUP, Sofa, Vissle gray</td>\n",
              "      <td>499</td>\n",
              "      <td>https://www.ikea.com/us/en/p/paerup-sofa-vissle-gray-s19389468/</td>\n",
              "      <td>images/pärup.jpg</td>\n",
              "      <td>Fridtuna dark gray-blue, Gunnared beige, Gunnared dark gray, Kelinge gray-turquoise, Kelinge rust, Current variation Vissle gray, Vissle yellow-brown</td>\n",
              "    </tr>\n",
              "    <tr>\n",
              "      <th>3</th>\n",
              "      <td>UPPLAND, Sofa, Blekinge white</td>\n",
              "      <td>849</td>\n",
              "      <td>https://www.ikea.com/us/en/p/uppland-sofa-blekinge-white-s19384116/</td>\n",
              "      <td>images/uppland.jpg</td>\n",
              "      <td>Current variation Blekinge white, Hakebo dark gray, Hakebo gray/green, Hillared anthracite, Hillared beige, Hillared dark blue, Karlshov gray-beige, Kelinge anthracite, Kelinge beige, Kelinge gray-turquoise, Kelinge rust, Kilanda dark blue, Kilanda light beige</td>\n",
              "    </tr>\n",
              "    <tr>\n",
              "      <th>4</th>\n",
              "      <td>PÄRUP, Sofa with chaise, Vissle gray</td>\n",
              "      <td>699</td>\n",
              "      <td>https://www.ikea.com/us/en/p/paerup-sofa-with-chaise-vissle-gray-s79389842/</td>\n",
              "      <td>images/pärup.jpg</td>\n",
              "      <td>Fridtuna dark gray-blue, Gunnared beige, Gunnared dark gray, Kelinge gray-turquoise, Kelinge rust, Current variation Vissle gray, Vissle yellow-brown</td>\n",
              "    </tr>\n",
              "  </tbody>\n",
              "</table>\n",
              "</div>"
            ],
            "text/plain": [
              "                                   Title Price  \\\n",
              "0     GLOSTAD, Loveseat, Knisa dark gray   149   \n",
              "1  MORABO, Sofa, Gunnared dark gray/wood   699   \n",
              "2               PÄRUP, Sofa, Vissle gray   499   \n",
              "3          UPPLAND, Sofa, Blekinge white   849   \n",
              "4   PÄRUP, Sofa with chaise, Vissle gray   699   \n",
              "\n",
              "                                                                          Link  \\\n",
              "0      https://www.ikea.com/us/en/p/glostad-loveseat-knisa-dark-gray-70489011/   \n",
              "1  https://www.ikea.com/us/en/p/morabo-sofa-gunnared-dark-gray-wood-s89318321/   \n",
              "2              https://www.ikea.com/us/en/p/paerup-sofa-vissle-gray-s19389468/   \n",
              "3          https://www.ikea.com/us/en/p/uppland-sofa-blekinge-white-s19384116/   \n",
              "4  https://www.ikea.com/us/en/p/paerup-sofa-with-chaise-vissle-gray-s79389842/   \n",
              "\n",
              "                 Path  \\\n",
              "0  images/glostad.jpg   \n",
              "1   images/morabo.jpg   \n",
              "2    images/pärup.jpg   \n",
              "3  images/uppland.jpg   \n",
              "4    images/pärup.jpg   \n",
              "\n",
              "                                                                                                                                                                                                                                                                 Colors  \n",
              "0                                                                                                                                                                                                                  Current variation Knisa dark gray, Knisa medium blue  \n",
              "1                                                                                                                                                                                         Djuparp dark blue, Current variation Gunnared dark gray, Gunnared light green  \n",
              "2                                                                                                                 Fridtuna dark gray-blue, Gunnared beige, Gunnared dark gray, Kelinge gray-turquoise, Kelinge rust, Current variation Vissle gray, Vissle yellow-brown  \n",
              "3  Current variation Blekinge white, Hakebo dark gray, Hakebo gray/green, Hillared anthracite, Hillared beige, Hillared dark blue, Karlshov gray-beige, Kelinge anthracite, Kelinge beige, Kelinge gray-turquoise, Kelinge rust, Kilanda dark blue, Kilanda light beige  \n",
              "4                                                                                                                 Fridtuna dark gray-blue, Gunnared beige, Gunnared dark gray, Kelinge gray-turquoise, Kelinge rust, Current variation Vissle gray, Vissle yellow-brown  "
            ]
          },
          "execution_count": 11,
          "metadata": {},
          "output_type": "execute_result"
        }
      ],
      "source": [
        "df.head()"
      ]
    },
    {
      "cell_type": "markdown",
      "metadata": {
        "id": "abCPlb--z9U9"
      },
      "source": [
        "# Droping Duplicate"
      ]
    },
    {
      "cell_type": "code",
      "execution_count": null,
      "metadata": {
        "id": "-MwXdx5Oz9U9",
        "outputId": "8a28bcb0-543e-4994-a062-59d86f60bd00"
      },
      "outputs": [
        {
          "data": {
            "text/html": [
              "<div>\n",
              "<style scoped>\n",
              "    .dataframe tbody tr th:only-of-type {\n",
              "        vertical-align: middle;\n",
              "    }\n",
              "\n",
              "    .dataframe tbody tr th {\n",
              "        vertical-align: top;\n",
              "    }\n",
              "\n",
              "    .dataframe thead th {\n",
              "        text-align: right;\n",
              "    }\n",
              "</style>\n",
              "<table border=\"1\" class=\"dataframe\">\n",
              "  <thead>\n",
              "    <tr style=\"text-align: right;\">\n",
              "      <th></th>\n",
              "      <th>Title</th>\n",
              "      <th>Price</th>\n",
              "      <th>Link</th>\n",
              "      <th>Path</th>\n",
              "      <th>Colors</th>\n",
              "    </tr>\n",
              "  </thead>\n",
              "  <tbody>\n",
              "    <tr>\n",
              "      <th>0</th>\n",
              "      <td>GLOSTAD, Loveseat, Knisa dark gray</td>\n",
              "      <td>149</td>\n",
              "      <td>https://www.ikea.com/us/en/p/glostad-loveseat-knisa-dark-gray-70489011/</td>\n",
              "      <td>images/glostad.jpg</td>\n",
              "      <td>Current variation Knisa dark gray, Knisa medium blue</td>\n",
              "    </tr>\n",
              "    <tr>\n",
              "      <th>1</th>\n",
              "      <td>MORABO, Sofa, Gunnared dark gray/wood</td>\n",
              "      <td>699</td>\n",
              "      <td>https://www.ikea.com/us/en/p/morabo-sofa-gunnared-dark-gray-wood-s89318321/</td>\n",
              "      <td>images/morabo.jpg</td>\n",
              "      <td>Djuparp dark blue, Current variation Gunnared dark gray, Gunnared light green</td>\n",
              "    </tr>\n",
              "    <tr>\n",
              "      <th>2</th>\n",
              "      <td>PÄRUP, Sofa, Vissle gray</td>\n",
              "      <td>499</td>\n",
              "      <td>https://www.ikea.com/us/en/p/paerup-sofa-vissle-gray-s19389468/</td>\n",
              "      <td>images/pärup.jpg</td>\n",
              "      <td>Fridtuna dark gray-blue, Gunnared beige, Gunnared dark gray, Kelinge gray-turquoise, Kelinge rust, Current variation Vissle gray, Vissle yellow-brown</td>\n",
              "    </tr>\n",
              "    <tr>\n",
              "      <th>3</th>\n",
              "      <td>UPPLAND, Sofa, Blekinge white</td>\n",
              "      <td>849</td>\n",
              "      <td>https://www.ikea.com/us/en/p/uppland-sofa-blekinge-white-s19384116/</td>\n",
              "      <td>images/uppland.jpg</td>\n",
              "      <td>Current variation Blekinge white, Hakebo dark gray, Hakebo gray/green, Hillared anthracite, Hillared beige, Hillared dark blue, Karlshov gray-beige, Kelinge anthracite, Kelinge beige, Kelinge gray-turquoise, Kelinge rust, Kilanda dark blue, Kilanda light beige</td>\n",
              "    </tr>\n",
              "    <tr>\n",
              "      <th>4</th>\n",
              "      <td>PÄRUP, Sofa with chaise, Vissle gray</td>\n",
              "      <td>699</td>\n",
              "      <td>https://www.ikea.com/us/en/p/paerup-sofa-with-chaise-vissle-gray-s79389842/</td>\n",
              "      <td>images/pärup.jpg</td>\n",
              "      <td>Fridtuna dark gray-blue, Gunnared beige, Gunnared dark gray, Kelinge gray-turquoise, Kelinge rust, Current variation Vissle gray, Vissle yellow-brown</td>\n",
              "    </tr>\n",
              "  </tbody>\n",
              "</table>\n",
              "</div>"
            ],
            "text/plain": [
              "                                   Title Price  \\\n",
              "0     GLOSTAD, Loveseat, Knisa dark gray   149   \n",
              "1  MORABO, Sofa, Gunnared dark gray/wood   699   \n",
              "2               PÄRUP, Sofa, Vissle gray   499   \n",
              "3          UPPLAND, Sofa, Blekinge white   849   \n",
              "4   PÄRUP, Sofa with chaise, Vissle gray   699   \n",
              "\n",
              "                                                                          Link  \\\n",
              "0      https://www.ikea.com/us/en/p/glostad-loveseat-knisa-dark-gray-70489011/   \n",
              "1  https://www.ikea.com/us/en/p/morabo-sofa-gunnared-dark-gray-wood-s89318321/   \n",
              "2              https://www.ikea.com/us/en/p/paerup-sofa-vissle-gray-s19389468/   \n",
              "3          https://www.ikea.com/us/en/p/uppland-sofa-blekinge-white-s19384116/   \n",
              "4  https://www.ikea.com/us/en/p/paerup-sofa-with-chaise-vissle-gray-s79389842/   \n",
              "\n",
              "                 Path  \\\n",
              "0  images/glostad.jpg   \n",
              "1   images/morabo.jpg   \n",
              "2    images/pärup.jpg   \n",
              "3  images/uppland.jpg   \n",
              "4    images/pärup.jpg   \n",
              "\n",
              "                                                                                                                                                                                                                                                                 Colors  \n",
              "0                                                                                                                                                                                                                  Current variation Knisa dark gray, Knisa medium blue  \n",
              "1                                                                                                                                                                                         Djuparp dark blue, Current variation Gunnared dark gray, Gunnared light green  \n",
              "2                                                                                                                 Fridtuna dark gray-blue, Gunnared beige, Gunnared dark gray, Kelinge gray-turquoise, Kelinge rust, Current variation Vissle gray, Vissle yellow-brown  \n",
              "3  Current variation Blekinge white, Hakebo dark gray, Hakebo gray/green, Hillared anthracite, Hillared beige, Hillared dark blue, Karlshov gray-beige, Kelinge anthracite, Kelinge beige, Kelinge gray-turquoise, Kelinge rust, Kilanda dark blue, Kilanda light beige  \n",
              "4                                                                                                                 Fridtuna dark gray-blue, Gunnared beige, Gunnared dark gray, Kelinge gray-turquoise, Kelinge rust, Current variation Vissle gray, Vissle yellow-brown  "
            ]
          },
          "execution_count": 14,
          "metadata": {},
          "output_type": "execute_result"
        }
      ],
      "source": [
        "df.head()"
      ]
    },
    {
      "cell_type": "code",
      "execution_count": null,
      "metadata": {
        "id": "CCnZzC5vz9U9"
      },
      "outputs": [],
      "source": [
        "df.drop_duplicates(subset=\"Title\",inplace=True)"
      ]
    },
    {
      "cell_type": "code",
      "execution_count": null,
      "metadata": {
        "id": "qGNpntKgz9U9",
        "outputId": "42b29ee5-2fa0-47e8-b55d-a869833b9f03"
      },
      "outputs": [
        {
          "name": "stdout",
          "output_type": "stream",
          "text": [
            "<class 'pandas.core.frame.DataFrame'>\n",
            "Index: 1119 entries, 0 to 1526\n",
            "Data columns (total 5 columns):\n",
            " #   Column  Non-Null Count  Dtype \n",
            "---  ------  --------------  ----- \n",
            " 0   Title   1119 non-null   object\n",
            " 1   Price   1119 non-null   object\n",
            " 2   Link    1119 non-null   object\n",
            " 3   Path    1119 non-null   object\n",
            " 4   Colors  1106 non-null   object\n",
            "dtypes: object(5)\n",
            "memory usage: 52.5+ KB\n"
          ]
        }
      ],
      "source": [
        "df.info()"
      ]
    },
    {
      "cell_type": "markdown",
      "metadata": {
        "id": "SN391J-Rz9U-"
      },
      "source": [
        "# Replacing Commas with Nothing In Price Column"
      ]
    },
    {
      "cell_type": "code",
      "execution_count": null,
      "metadata": {
        "id": "5GJfd7wZz9U-"
      },
      "outputs": [],
      "source": [
        "df['Price']=df['Price'].str.replace(',','')"
      ]
    },
    {
      "cell_type": "markdown",
      "metadata": {
        "id": "WZz6oGhrz9U-"
      },
      "source": [
        "# Converting The Price To Float"
      ]
    },
    {
      "cell_type": "code",
      "execution_count": null,
      "metadata": {
        "id": "Trqk9hGvz9U-"
      },
      "outputs": [],
      "source": [
        "df['Price']=df['Price'].astype('float')"
      ]
    },
    {
      "cell_type": "code",
      "execution_count": null,
      "metadata": {
        "id": "8JbqKDpLz9U-",
        "outputId": "5c17306e-995b-42ab-cb2d-7e93296a4bd1"
      },
      "outputs": [
        {
          "data": {
            "text/html": [
              "<div>\n",
              "<style scoped>\n",
              "    .dataframe tbody tr th:only-of-type {\n",
              "        vertical-align: middle;\n",
              "    }\n",
              "\n",
              "    .dataframe tbody tr th {\n",
              "        vertical-align: top;\n",
              "    }\n",
              "\n",
              "    .dataframe thead th {\n",
              "        text-align: right;\n",
              "    }\n",
              "</style>\n",
              "<table border=\"1\" class=\"dataframe\">\n",
              "  <thead>\n",
              "    <tr style=\"text-align: right;\">\n",
              "      <th></th>\n",
              "      <th>Title</th>\n",
              "      <th>Price</th>\n",
              "      <th>Link</th>\n",
              "      <th>Path</th>\n",
              "      <th>Colors</th>\n",
              "    </tr>\n",
              "  </thead>\n",
              "  <tbody>\n",
              "    <tr>\n",
              "      <th>0</th>\n",
              "      <td>GLOSTAD, Loveseat, Knisa dark gray</td>\n",
              "      <td>149.0</td>\n",
              "      <td>https://www.ikea.com/us/en/p/glostad-loveseat-knisa-dark-gray-70489011/</td>\n",
              "      <td>images/glostad.jpg</td>\n",
              "      <td>Current variation Knisa dark gray, Knisa medium blue</td>\n",
              "    </tr>\n",
              "    <tr>\n",
              "      <th>1</th>\n",
              "      <td>MORABO, Sofa, Gunnared dark gray/wood</td>\n",
              "      <td>699.0</td>\n",
              "      <td>https://www.ikea.com/us/en/p/morabo-sofa-gunnared-dark-gray-wood-s89318321/</td>\n",
              "      <td>images/morabo.jpg</td>\n",
              "      <td>Djuparp dark blue, Current variation Gunnared dark gray, Gunnared light green</td>\n",
              "    </tr>\n",
              "    <tr>\n",
              "      <th>2</th>\n",
              "      <td>PÄRUP, Sofa, Vissle gray</td>\n",
              "      <td>499.0</td>\n",
              "      <td>https://www.ikea.com/us/en/p/paerup-sofa-vissle-gray-s19389468/</td>\n",
              "      <td>images/pärup.jpg</td>\n",
              "      <td>Fridtuna dark gray-blue, Gunnared beige, Gunnared dark gray, Kelinge gray-turquoise, Kelinge rust, Current variation Vissle gray, Vissle yellow-brown</td>\n",
              "    </tr>\n",
              "    <tr>\n",
              "      <th>3</th>\n",
              "      <td>UPPLAND, Sofa, Blekinge white</td>\n",
              "      <td>849.0</td>\n",
              "      <td>https://www.ikea.com/us/en/p/uppland-sofa-blekinge-white-s19384116/</td>\n",
              "      <td>images/uppland.jpg</td>\n",
              "      <td>Current variation Blekinge white, Hakebo dark gray, Hakebo gray/green, Hillared anthracite, Hillared beige, Hillared dark blue, Karlshov gray-beige, Kelinge anthracite, Kelinge beige, Kelinge gray-turquoise, Kelinge rust, Kilanda dark blue, Kilanda light beige</td>\n",
              "    </tr>\n",
              "    <tr>\n",
              "      <th>4</th>\n",
              "      <td>PÄRUP, Sofa with chaise, Vissle gray</td>\n",
              "      <td>699.0</td>\n",
              "      <td>https://www.ikea.com/us/en/p/paerup-sofa-with-chaise-vissle-gray-s79389842/</td>\n",
              "      <td>images/pärup.jpg</td>\n",
              "      <td>Fridtuna dark gray-blue, Gunnared beige, Gunnared dark gray, Kelinge gray-turquoise, Kelinge rust, Current variation Vissle gray, Vissle yellow-brown</td>\n",
              "    </tr>\n",
              "  </tbody>\n",
              "</table>\n",
              "</div>"
            ],
            "text/plain": [
              "                                   Title  Price  \\\n",
              "0     GLOSTAD, Loveseat, Knisa dark gray  149.0   \n",
              "1  MORABO, Sofa, Gunnared dark gray/wood  699.0   \n",
              "2               PÄRUP, Sofa, Vissle gray  499.0   \n",
              "3          UPPLAND, Sofa, Blekinge white  849.0   \n",
              "4   PÄRUP, Sofa with chaise, Vissle gray  699.0   \n",
              "\n",
              "                                                                          Link  \\\n",
              "0      https://www.ikea.com/us/en/p/glostad-loveseat-knisa-dark-gray-70489011/   \n",
              "1  https://www.ikea.com/us/en/p/morabo-sofa-gunnared-dark-gray-wood-s89318321/   \n",
              "2              https://www.ikea.com/us/en/p/paerup-sofa-vissle-gray-s19389468/   \n",
              "3          https://www.ikea.com/us/en/p/uppland-sofa-blekinge-white-s19384116/   \n",
              "4  https://www.ikea.com/us/en/p/paerup-sofa-with-chaise-vissle-gray-s79389842/   \n",
              "\n",
              "                 Path  \\\n",
              "0  images/glostad.jpg   \n",
              "1   images/morabo.jpg   \n",
              "2    images/pärup.jpg   \n",
              "3  images/uppland.jpg   \n",
              "4    images/pärup.jpg   \n",
              "\n",
              "                                                                                                                                                                                                                                                                 Colors  \n",
              "0                                                                                                                                                                                                                  Current variation Knisa dark gray, Knisa medium blue  \n",
              "1                                                                                                                                                                                         Djuparp dark blue, Current variation Gunnared dark gray, Gunnared light green  \n",
              "2                                                                                                                 Fridtuna dark gray-blue, Gunnared beige, Gunnared dark gray, Kelinge gray-turquoise, Kelinge rust, Current variation Vissle gray, Vissle yellow-brown  \n",
              "3  Current variation Blekinge white, Hakebo dark gray, Hakebo gray/green, Hillared anthracite, Hillared beige, Hillared dark blue, Karlshov gray-beige, Kelinge anthracite, Kelinge beige, Kelinge gray-turquoise, Kelinge rust, Kilanda dark blue, Kilanda light beige  \n",
              "4                                                                                                                 Fridtuna dark gray-blue, Gunnared beige, Gunnared dark gray, Kelinge gray-turquoise, Kelinge rust, Current variation Vissle gray, Vissle yellow-brown  "
            ]
          },
          "execution_count": 19,
          "metadata": {},
          "output_type": "execute_result"
        }
      ],
      "source": [
        "df.head()"
      ]
    },
    {
      "cell_type": "markdown",
      "metadata": {
        "id": "qXirPQnkz9U_"
      },
      "source": [
        "# Replacing Commas in Colors Column"
      ]
    },
    {
      "cell_type": "code",
      "execution_count": null,
      "metadata": {
        "id": "4L7QTVxQz9U_"
      },
      "outputs": [],
      "source": [
        "df['Colors']=df['Colors'].str.replace(',','')"
      ]
    },
    {
      "cell_type": "code",
      "execution_count": null,
      "metadata": {
        "id": "vrixIr2Iz9U_",
        "outputId": "f3c2aa8e-1e61-42ec-cb98-78e21340ea5d"
      },
      "outputs": [
        {
          "data": {
            "text/html": [
              "<div>\n",
              "<style scoped>\n",
              "    .dataframe tbody tr th:only-of-type {\n",
              "        vertical-align: middle;\n",
              "    }\n",
              "\n",
              "    .dataframe tbody tr th {\n",
              "        vertical-align: top;\n",
              "    }\n",
              "\n",
              "    .dataframe thead th {\n",
              "        text-align: right;\n",
              "    }\n",
              "</style>\n",
              "<table border=\"1\" class=\"dataframe\">\n",
              "  <thead>\n",
              "    <tr style=\"text-align: right;\">\n",
              "      <th></th>\n",
              "      <th>Title</th>\n",
              "      <th>Price</th>\n",
              "      <th>Link</th>\n",
              "      <th>Path</th>\n",
              "      <th>Colors</th>\n",
              "    </tr>\n",
              "  </thead>\n",
              "  <tbody>\n",
              "    <tr>\n",
              "      <th>0</th>\n",
              "      <td>GLOSTAD, Loveseat, Knisa dark gray</td>\n",
              "      <td>149.0</td>\n",
              "      <td>https://www.ikea.com/us/en/p/glostad-loveseat-knisa-dark-gray-70489011/</td>\n",
              "      <td>images/glostad.jpg</td>\n",
              "      <td>Current variation Knisa dark gray Knisa medium blue</td>\n",
              "    </tr>\n",
              "    <tr>\n",
              "      <th>1</th>\n",
              "      <td>MORABO, Sofa, Gunnared dark gray/wood</td>\n",
              "      <td>699.0</td>\n",
              "      <td>https://www.ikea.com/us/en/p/morabo-sofa-gunnared-dark-gray-wood-s89318321/</td>\n",
              "      <td>images/morabo.jpg</td>\n",
              "      <td>Djuparp dark blue Current variation Gunnared dark gray Gunnared light green</td>\n",
              "    </tr>\n",
              "    <tr>\n",
              "      <th>2</th>\n",
              "      <td>PÄRUP, Sofa, Vissle gray</td>\n",
              "      <td>499.0</td>\n",
              "      <td>https://www.ikea.com/us/en/p/paerup-sofa-vissle-gray-s19389468/</td>\n",
              "      <td>images/pärup.jpg</td>\n",
              "      <td>Fridtuna dark gray-blue Gunnared beige Gunnared dark gray Kelinge gray-turquoise Kelinge rust Current variation Vissle gray Vissle yellow-brown</td>\n",
              "    </tr>\n",
              "    <tr>\n",
              "      <th>3</th>\n",
              "      <td>UPPLAND, Sofa, Blekinge white</td>\n",
              "      <td>849.0</td>\n",
              "      <td>https://www.ikea.com/us/en/p/uppland-sofa-blekinge-white-s19384116/</td>\n",
              "      <td>images/uppland.jpg</td>\n",
              "      <td>Current variation Blekinge white Hakebo dark gray Hakebo gray/green Hillared anthracite Hillared beige Hillared dark blue Karlshov gray-beige Kelinge anthracite Kelinge beige Kelinge gray-turquoise Kelinge rust Kilanda dark blue Kilanda light beige</td>\n",
              "    </tr>\n",
              "    <tr>\n",
              "      <th>4</th>\n",
              "      <td>PÄRUP, Sofa with chaise, Vissle gray</td>\n",
              "      <td>699.0</td>\n",
              "      <td>https://www.ikea.com/us/en/p/paerup-sofa-with-chaise-vissle-gray-s79389842/</td>\n",
              "      <td>images/pärup.jpg</td>\n",
              "      <td>Fridtuna dark gray-blue Gunnared beige Gunnared dark gray Kelinge gray-turquoise Kelinge rust Current variation Vissle gray Vissle yellow-brown</td>\n",
              "    </tr>\n",
              "  </tbody>\n",
              "</table>\n",
              "</div>"
            ],
            "text/plain": [
              "                                   Title  Price  \\\n",
              "0     GLOSTAD, Loveseat, Knisa dark gray  149.0   \n",
              "1  MORABO, Sofa, Gunnared dark gray/wood  699.0   \n",
              "2               PÄRUP, Sofa, Vissle gray  499.0   \n",
              "3          UPPLAND, Sofa, Blekinge white  849.0   \n",
              "4   PÄRUP, Sofa with chaise, Vissle gray  699.0   \n",
              "\n",
              "                                                                          Link  \\\n",
              "0      https://www.ikea.com/us/en/p/glostad-loveseat-knisa-dark-gray-70489011/   \n",
              "1  https://www.ikea.com/us/en/p/morabo-sofa-gunnared-dark-gray-wood-s89318321/   \n",
              "2              https://www.ikea.com/us/en/p/paerup-sofa-vissle-gray-s19389468/   \n",
              "3          https://www.ikea.com/us/en/p/uppland-sofa-blekinge-white-s19384116/   \n",
              "4  https://www.ikea.com/us/en/p/paerup-sofa-with-chaise-vissle-gray-s79389842/   \n",
              "\n",
              "                 Path  \\\n",
              "0  images/glostad.jpg   \n",
              "1   images/morabo.jpg   \n",
              "2    images/pärup.jpg   \n",
              "3  images/uppland.jpg   \n",
              "4    images/pärup.jpg   \n",
              "\n",
              "                                                                                                                                                                                                                                                     Colors  \n",
              "0                                                                                                                                                                                                       Current variation Knisa dark gray Knisa medium blue  \n",
              "1                                                                                                                                                                               Djuparp dark blue Current variation Gunnared dark gray Gunnared light green  \n",
              "2                                                                                                           Fridtuna dark gray-blue Gunnared beige Gunnared dark gray Kelinge gray-turquoise Kelinge rust Current variation Vissle gray Vissle yellow-brown  \n",
              "3  Current variation Blekinge white Hakebo dark gray Hakebo gray/green Hillared anthracite Hillared beige Hillared dark blue Karlshov gray-beige Kelinge anthracite Kelinge beige Kelinge gray-turquoise Kelinge rust Kilanda dark blue Kilanda light beige  \n",
              "4                                                                                                           Fridtuna dark gray-blue Gunnared beige Gunnared dark gray Kelinge gray-turquoise Kelinge rust Current variation Vissle gray Vissle yellow-brown  "
            ]
          },
          "execution_count": 22,
          "metadata": {},
          "output_type": "execute_result"
        }
      ],
      "source": [
        "df.head()"
      ]
    },
    {
      "cell_type": "code",
      "execution_count": null,
      "metadata": {
        "id": "BwIXzoVmz9U_"
      },
      "outputs": [],
      "source": [
        "scaler = StandardScaler()"
      ]
    },
    {
      "cell_type": "code",
      "execution_count": null,
      "metadata": {
        "id": "jDqszH-Cz9U_"
      },
      "outputs": [],
      "source": [
        "df['Price'] = scaler.fit_transform(df[['Price']])"
      ]
    },
    {
      "cell_type": "code",
      "execution_count": null,
      "metadata": {
        "id": "oH5sm4hDz9U_"
      },
      "outputs": [],
      "source": [
        "df['Colors'] = pd.factorize(df['Colors'])[0]"
      ]
    },
    {
      "cell_type": "code",
      "execution_count": null,
      "metadata": {
        "id": "FXFYBZixz9U_"
      },
      "outputs": [],
      "source": []
    },
    {
      "cell_type": "code",
      "execution_count": null,
      "metadata": {
        "id": "z2Kzn88nz9U_"
      },
      "outputs": [],
      "source": [
        "# Creating feature vectors\n",
        "features = df[['Colors', 'Price']].values\n",
        "\n",
        "# Compute cosine similarity matrix\n",
        "similarity_matrix = cosine_similarity(features, features)"
      ]
    },
    {
      "cell_type": "code",
      "execution_count": null,
      "metadata": {
        "id": "mJMOb6Spz9VA",
        "outputId": "8dcabc6e-c01a-4d28-cca7-daf0ab609382"
      },
      "outputs": [
        {
          "name": "stdout",
          "output_type": "stream",
          "text": [
            "Because you viewed YouCopia ReStickable 3D Fridge Labels Pack of 10, you may also like: Command Large Double Hook, 6-Pocket Mesh Shower Caddy, Chrome Metal Purse Hangers Pkg/6, The Container Store All-Purpose Storage Bag, Large Tall Cabinet Shelf, White Long Grid Stackable Shelf, Erasable Food Storage Labels, Built NY Stainless Steel Utensil Set, Progressive Magnetic Kitchen Scissors, RSVP Silicone Straws with Cleaner Pkg/6\n"
          ]
        }
      ],
      "source": [
        "def recommend_items(item_name, similarity_matrix, df, top_n=10):\n",
        "    if item_name not in df['Title'].values:\n",
        "        return f\"Item '{item_name}' not found in the dataset.\"\n",
        "\n",
        "    item_index = df.index[df['Title'] == item_name].tolist()[0]\n",
        "\n",
        "    similarity_scores = list(enumerate(similarity_matrix[item_index]))\n",
        "\n",
        "    similarity_scores = sorted(similarity_scores, key=lambda x: x[1], reverse=True)\n",
        "\n",
        "    top_similar_items = similarity_scores[1:top_n+1]\n",
        "\n",
        "    recommended_items = [df.iloc[item[0]]['Title'] for item in top_similar_items]\n",
        "\n",
        "    return recommended_items\n",
        "\n",
        "# Example usage\n",
        "item_name = 'YouCopia ReStickable 3D Fridge Labels Pack of 10'\n",
        "recommendations = recommend_items(item_name, similarity_matrix, df)\n",
        "print(f\"Because you viewed {item_name}, you may also like: {', '.join(recommendations)}\")\n"
      ]
    },
    {
      "cell_type": "code",
      "execution_count": null,
      "metadata": {
        "id": "ZfhS0Df1z9VA",
        "outputId": "d5c1499b-15a7-4f4f-9564-df6884bd60d4"
      },
      "outputs": [
        {
          "data": {
            "text/plain": [
              "['Command Large Double Hook',\n",
              " '6-Pocket Mesh Shower Caddy',\n",
              " 'Chrome Metal Purse Hangers Pkg/6',\n",
              " 'The Container Store All-Purpose Storage Bag',\n",
              " 'Large Tall Cabinet Shelf',\n",
              " 'White Long Grid Stackable Shelf',\n",
              " 'Erasable Food Storage Labels',\n",
              " 'Built NY Stainless Steel Utensil Set',\n",
              " 'Progressive Magnetic Kitchen Scissors',\n",
              " 'RSVP Silicone Straws with Cleaner Pkg/6']"
            ]
          },
          "execution_count": 42,
          "metadata": {},
          "output_type": "execute_result"
        }
      ],
      "source": [
        "recommendations"
      ]
    },
    {
      "cell_type": "code",
      "execution_count": null,
      "metadata": {
        "id": "fqlzONAFz9VA",
        "outputId": "0c029c56-8159-4e7a-e12d-0a92e0e626d6"
      },
      "outputs": [
        {
          "data": {
            "text/html": [
              "<div>\n",
              "<style scoped>\n",
              "    .dataframe tbody tr th:only-of-type {\n",
              "        vertical-align: middle;\n",
              "    }\n",
              "\n",
              "    .dataframe tbody tr th {\n",
              "        vertical-align: top;\n",
              "    }\n",
              "\n",
              "    .dataframe thead th {\n",
              "        text-align: right;\n",
              "    }\n",
              "</style>\n",
              "<table border=\"1\" class=\"dataframe\">\n",
              "  <thead>\n",
              "    <tr style=\"text-align: right;\">\n",
              "      <th></th>\n",
              "      <th>Title</th>\n",
              "      <th>Price</th>\n",
              "      <th>Colors</th>\n",
              "      <th>Link</th>\n",
              "    </tr>\n",
              "  </thead>\n",
              "  <tbody>\n",
              "    <tr>\n",
              "      <th>1441</th>\n",
              "      <td>YouCopia ReStickable 3D Fridge Labels Pack of 10</td>\n",
              "      <td>-0.433485</td>\n",
              "      <td>-1</td>\n",
              "      <td>https://www.containerstore.com/s/elfa/complete-your-elfa-space/youcopia-restickable-3d-fridge-labels-pkg~10/12d?productId=11019795</td>\n",
              "    </tr>\n",
              "  </tbody>\n",
              "</table>\n",
              "</div>"
            ],
            "text/plain": [
              "                                                 Title     Price  Colors  \\\n",
              "1441  YouCopia ReStickable 3D Fridge Labels Pack of 10 -0.433485      -1   \n",
              "\n",
              "                                                                                                                                    Link  \n",
              "1441  https://www.containerstore.com/s/elfa/complete-your-elfa-space/youcopia-restickable-3d-fridge-labels-pkg~10/12d?productId=11019795  "
            ]
          },
          "execution_count": 43,
          "metadata": {},
          "output_type": "execute_result"
        }
      ],
      "source": [
        "df[df['Title']==item_name]"
      ]
    },
    {
      "cell_type": "code",
      "execution_count": null,
      "metadata": {
        "id": "BDxWBoQKz9VA",
        "outputId": "11e9eb11-86bd-4332-dba8-436b80c6fc93"
      },
      "outputs": [
        {
          "data": {
            "text/plain": [
              "1441    https://www.containerstore.com/s/elfa/complete-your-elfa-space/youcopia-restickable-3d-fridge-labels-pkg~10/12d?productId=11019795\n",
              "Name: Link, dtype: object"
            ]
          },
          "execution_count": 44,
          "metadata": {},
          "output_type": "execute_result"
        }
      ],
      "source": [
        "df[df['Title']==item_name]['Link']"
      ]
    },
    {
      "cell_type": "code",
      "execution_count": null,
      "metadata": {
        "id": "NBWW5PfMz9VA",
        "outputId": "a6da01cc-31ad-4be5-eb1f-05af4c071acf"
      },
      "outputs": [
        {
          "data": {
            "text/plain": [
              "[215    https://www.containerstore.com/s/office/new-office-arrivals/command-large-double-hook/12d?productId=11024883\n",
              " Name: Link, dtype: object,\n",
              " 238    https://www.containerstore.com/s/bath/bathroom-new-arrivals/6_pocket-mesh-shower-caddy/12d?productId=11024855\n",
              " Name: Link, dtype: object,\n",
              " 1281    https://www.containerstore.com/s/elfa/complete-your-elfa-space/chrome-metal-purse-hangers/12d?productId=10037214\n",
              " Name: Link, dtype: object,\n",
              " 1282    https://www.containerstore.com/s/elfa/complete-your-elfa-space/the-container-store-all_purpose-storage-bag/12d?productId=11023043\n",
              " Name: Link, dtype: object,\n",
              " 1341    https://www.containerstore.com/s/elfa/complete-your-elfa-space/large-tall-cabinet-shelf/12d?productId=10035747\n",
              " Name: Link, dtype: object,\n",
              " 1367    https://www.containerstore.com/s/elfa/complete-your-elfa-space/white-long-grid-stackable-shelf/12d?productId=11002124\n",
              " Name: Link, dtype: object,\n",
              " 1446    https://www.containerstore.com/s/elfa/complete-your-elfa-space/erasable-food-storage-labels/12d?productId=10009870\n",
              " Name: Link, dtype: object,\n",
              " 1740    https://www.containerstore.com/s/the-college-shop/kitchen-essentials/built-ny-stainless-steel-utensil-set/12d?productId=11009025\n",
              " Name: Link, dtype: object,\n",
              " 1780    https://www.containerstore.com/s/the-college-shop/kitchen-essentials/progressive-magnetic-kitchen-scissors/12d?productId=11015213\n",
              " Name: Link, dtype: object,\n",
              " 1807    https://www.containerstore.com/s/the-college-shop/kitchen-essentials/rsvp-silicone-straws-with-cleaner/12d?productId=11010091\n",
              " Name: Link, dtype: object]"
            ]
          },
          "execution_count": 45,
          "metadata": {},
          "output_type": "execute_result"
        }
      ],
      "source": [
        "[df[df['Title']==rec]['Link'] for rec in recommendations]"
      ]
    },
    {
      "cell_type": "code",
      "execution_count": null,
      "metadata": {
        "id": "J8KJNTBrz9VB"
      },
      "outputs": [],
      "source": []
    },
    {
      "cell_type": "code",
      "execution_count": null,
      "metadata": {
        "id": "myjH0yVDz9VB"
      },
      "outputs": [],
      "source": []
    },
    {
      "cell_type": "code",
      "execution_count": null,
      "metadata": {
        "id": "1wQkfMPbz9VB"
      },
      "outputs": [],
      "source": []
    },
    {
      "cell_type": "code",
      "execution_count": null,
      "metadata": {
        "id": "-Y-HuMBkz9VB"
      },
      "outputs": [],
      "source": []
    },
    {
      "cell_type": "code",
      "execution_count": null,
      "metadata": {
        "id": "tmFxqlq2z9VB"
      },
      "outputs": [],
      "source": []
    },
    {
      "cell_type": "code",
      "execution_count": null,
      "metadata": {
        "id": "bHGuBwzyz9VB"
      },
      "outputs": [],
      "source": [
        "import pandas as pd\n",
        "from sklearn.metrics.pairwise import cosine_similarity\n",
        "from sklearn.preprocessing import StandardScaler\n",
        "\n",
        "# Example dataset (replace with your actual dataset loading)\n",
        "data = {\n",
        "    'furniture_name': ['Sofa', 'Table', 'Chair', 'Cushion', 'Bed', 'Desk'],\n",
        "    'color': ['Red', 'Brown', 'White', 'Blue', 'Black', 'Brown'],\n",
        "    'price': [500, 300, 150, 50, 800, 400]\n",
        "}\n",
        "\n",
        "df = pd.DataFrame(data)\n",
        "\n",
        "# Encoding categorical variables (color)\n",
        "df['color_encoded'] = pd.factorize(df['color'])[0]\n",
        "\n",
        "# Scaling numerical features (price)\n",
        "scaler = StandardScaler()\n",
        "df['price_scaled'] = scaler.fit_transform(df[['price']])\n",
        "\n",
        "# Creating feature vectors\n",
        "features = df[['color_encoded', 'price_scaled']].values\n",
        "\n",
        "# Compute cosine similarity matrix\n",
        "similarity_matrix = cosine_similarity(features, features)\n",
        "\n",
        "# Function to recommend items\n",
        "def recommend_items(item_name, similarity_matrix, df, top_n=3):\n",
        "    item_index = df.index[df['furniture_name'] == item_name][0]\n",
        "    similarity_scores = list(enumerate(similarity_matrix[item_index]))\n",
        "    similarity_scores = sorted(similarity_scores, key=lambda x: x[1], reverse=True)\n",
        "    top_similar_items = similarity_scores[1:top_n+1]  # Exclude itself, get top N similar items\n",
        "    recommended_items = [df.iloc[item[0]]['furniture_name'] for item in top_similar_items]\n",
        "    return recommended_items\n",
        "\n",
        "# Example usage\n",
        "item_name = 'Sofa'\n",
        "recommendations = recommend_items(item_name, similarity_matrix, df)\n",
        "print(f\"Because you viewed {item_name}, you may also like: {', '.join(recommendations)}\")\n"
      ]
    },
    {
      "cell_type": "code",
      "execution_count": null,
      "metadata": {
        "id": "63-9nUT2z9VB"
      },
      "outputs": [],
      "source": []
    }
  ],
  "metadata": {
    "kernelspec": {
      "display_name": ".venv",
      "language": "python",
      "name": "python3"
    },
    "language_info": {
      "codemirror_mode": {
        "name": "ipython",
        "version": 3
      },
      "file_extension": ".py",
      "mimetype": "text/x-python",
      "name": "python",
      "nbconvert_exporter": "python",
      "pygments_lexer": "ipython3",
      "version": "3.9.13"
    },
    "colab": {
      "provenance": [],
      "include_colab_link": true
    }
  },
  "nbformat": 4,
  "nbformat_minor": 0
}